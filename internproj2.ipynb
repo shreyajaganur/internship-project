{
 "cells": [
  {
   "cell_type": "code",
   "execution_count": null,
   "id": "9b00e5de",
   "metadata": {},
   "outputs": [],
   "source": [
    "import pandas as pd\n",
    "import numpy as np"
   ]
  },
  {
   "attachments": {},
   "cell_type": "markdown",
   "id": "dcb18f32",
   "metadata": {},
   "source": [
    "movie recommendation system\n",
    "OBJECTIVE : To recommend movies according to user choice\n"
   ]
  },
  {
   "cell_type": "code",
   "execution_count": null,
   "id": "64382922",
   "metadata": {},
   "outputs": [],
   "source": [
    "df=pd.read_csv('https://raw.github.com/YBIFoundation/Dataset/main/Movies%20Recommendation.csv')"
   ]
  },
  {
   "cell_type": "code",
   "execution_count": null,
   "id": "26fe03fc",
   "metadata": {},
   "outputs": [],
   "source": [
    "df.head()"
   ]
  },
  {
   "cell_type": "code",
   "execution_count": null,
   "id": "63da1b2e",
   "metadata": {},
   "outputs": [],
   "source": [
    "df.info()"
   ]
  },
  {
   "cell_type": "code",
   "execution_count": null,
   "id": "54561741",
   "metadata": {},
   "outputs": [],
   "source": [
    "df.columns"
   ]
  },
  {
   "cell_type": "markdown",
   "id": "44fecaa3",
   "metadata": {},
   "source": []
  },
  {
   "cell_type": "code",
   "execution_count": null,
   "id": "711503d4",
   "metadata": {},
   "outputs": [],
   "source": [
    "df_features=df[['Movie_Genre','Movie_Keywords','Movie_Tagline','Movie_Cast','Movie_Director']].fillna('')"
   ]
  },
  {
   "cell_type": "code",
   "execution_count": null,
   "id": "bf9926e6",
   "metadata": {},
   "outputs": [],
   "source": [
    "df_features.shape"
   ]
  },
  {
   "cell_type": "code",
   "execution_count": null,
   "id": "d64a824d",
   "metadata": {},
   "outputs": [],
   "source": [
    "df_features"
   ]
  },
  {
   "cell_type": "code",
   "execution_count": null,
   "id": "28452c64",
   "metadata": {},
   "outputs": [],
   "source": [
    "X=df_features['Movie_Genre']+' '+df_features['Movie_Keywords']+' '+df_features['Movie_Tagline']+' '+df_features['Movie_Cast']+' '+df_features['Movie_Director']"
   ]
  },
  {
   "cell_type": "code",
   "execution_count": null,
   "id": "832c8e25",
   "metadata": {},
   "outputs": [],
   "source": [
    "X"
   ]
  },
  {
   "cell_type": "code",
   "execution_count": null,
   "id": "ee5da4b2",
   "metadata": {},
   "outputs": [],
   "source": [
    "X.shape"
   ]
  },
  {
   "cell_type": "code",
   "execution_count": null,
   "id": "eab0b57c",
   "metadata": {},
   "outputs": [],
   "source": [
    "from sklearn.feature_extraction.text import TfidfVectorizer"
   ]
  },
  {
   "cell_type": "code",
   "execution_count": null,
   "id": "cbfc1320",
   "metadata": {},
   "outputs": [],
   "source": [
    "tfidf=TfidfVectorizer()"
   ]
  },
  {
   "cell_type": "code",
   "execution_count": null,
   "id": "4c0493d3",
   "metadata": {},
   "outputs": [],
   "source": [
    "X=tfidf.fit_transform(X)"
   ]
  },
  {
   "cell_type": "code",
   "execution_count": null,
   "id": "2fccc6dc",
   "metadata": {},
   "outputs": [],
   "source": [
    "X.shape"
   ]
  },
  {
   "cell_type": "code",
   "execution_count": null,
   "id": "be075ca6",
   "metadata": {},
   "outputs": [],
   "source": [
    "print(X)"
   ]
  },
  {
   "cell_type": "code",
   "execution_count": null,
   "id": "d9474ae9",
   "metadata": {},
   "outputs": [],
   "source": [
    "from sklearn.metrics.pairwise import cosine_similarity"
   ]
  },
  {
   "cell_type": "code",
   "execution_count": null,
   "id": "6fb20516",
   "metadata": {},
   "outputs": [],
   "source": [
    "Similarity_score=cosine_similarity(X)"
   ]
  },
  {
   "cell_type": "code",
   "execution_count": null,
   "id": "a730cae0",
   "metadata": {},
   "outputs": [],
   "source": [
    "Similarity_score"
   ]
  },
  {
   "cell_type": "code",
   "execution_count": null,
   "id": "2d54f500",
   "metadata": {},
   "outputs": [],
   "source": [
    "Similarity_score.shape"
   ]
  },
  {
   "cell_type": "code",
   "execution_count": null,
   "id": "1514138f",
   "metadata": {},
   "outputs": [],
   "source": [
    "Favourite_Movie_Name=input('Enter your favorite movie name:')"
   ]
  },
  {
   "cell_type": "code",
   "execution_count": null,
   "id": "7c149747",
   "metadata": {},
   "outputs": [],
   "source": [
    "All_Movie_Title_List=df['Movie_Title'].tolist()"
   ]
  },
  {
   "cell_type": "code",
   "execution_count": null,
   "id": "79b62c0d",
   "metadata": {},
   "outputs": [],
   "source": [
    "import difflib"
   ]
  },
  {
   "cell_type": "code",
   "execution_count": null,
   "id": "34a32dcf",
   "metadata": {},
   "outputs": [],
   "source": [
    "Movie_Recommendation=difflib.get_close_matches(Favourite_Movie_Name,All_Movie_Title_List)\n",
    "print(Movie_Recommendation)"
   ]
  },
  {
   "cell_type": "code",
   "execution_count": null,
   "id": "c64d8861",
   "metadata": {},
   "outputs": [],
   "source": [
    "Close_Match=Movie_Recommendation[0]"
   ]
  },
  {
   "cell_type": "code",
   "execution_count": null,
   "id": "0ea7d69e",
   "metadata": {},
   "outputs": [],
   "source": [
    "Index_Of_Close_Match_Movie=df[df.Movie_Title==Close_Match]['Movie_ID'].values[0]"
   ]
  },
  {
   "cell_type": "code",
   "execution_count": null,
   "id": "4827ea7f",
   "metadata": {},
   "outputs": [],
   "source": [
    "print(Index_Of_Close_Match_Movie)"
   ]
  },
  {
   "cell_type": "code",
   "execution_count": null,
   "id": "1ee6b70e",
   "metadata": {},
   "outputs": [],
   "source": [
    "Recommendation_Score=list(enumerate(Similarity_score[Index_Of_Close_Match_Movie]))\n",
    "print(Recommendation_Store)"
   ]
  },
  {
   "cell_type": "code",
   "execution_count": null,
   "id": "2aa8e15d",
   "metadata": {},
   "outputs": [],
   "source": [
    "Sorted_Similar_Movies=sorted(Recommendation_Score,key=lambda X:X[1],reverse=True)\n",
    "print(Sorted_Similar_Movies)"
   ]
  },
  {
   "cell_type": "code",
   "execution_count": null,
   "id": "d53397d2",
   "metadata": {},
   "outputs": [],
   "source": [
    "print('Top 30 movies suggested for you:\\n')\n",
    "\n",
    "i=1\n",
    "for movie in Sorted_Similar_Movies:\n",
    "  index=movie[0]\n",
    "  title_from_index=df[df.index==index]['Movie_Title'].values[0]\n",
    "  if(i<31):\n",
    "    print(i,'.',title_from_index)\n",
    "    i+=1"
   ]
  },
  {
   "cell_type": "code",
   "execution_count": null,
   "id": "10fb8769",
   "metadata": {},
   "outputs": [],
   "source": [
    "# top 10 movie recommendation system"
   ]
  },
  {
   "cell_type": "code",
   "execution_count": null,
   "id": "5536e9e7",
   "metadata": {},
   "outputs": [],
   "source": [
    "Favourite_Movie_Name=input('Enter your favorite movie name:')\n",
    "All_Movie_Title_List=df['Movie_Title'].tolist()\n",
    "\n",
    "Movie_Recommendation=difflib.get_close_matches(Favourite_Movie_Name,All_Movies_Title_List)\n",
    "\n",
    "Close_Match=Movie_Recommendation[0]\n",
    "Index_Of_Movie=df[df.Movie_Title==Close_Match]['Movie_ID'].values[0]\n",
    "\n",
    "Recommendation_Score=list(enumerate(Similarity_Score[Index_Of_Close_Match_Movie]))\n",
    "\n",
    "sorted_Similar_Movies=sorted(Recommendation_Score,key=lambda X:X[1],reverse=True)\n",
    "\n",
    "print('Top 10 movies suggested for you:\\n')\n",
    "\n",
    "i=1\n",
    "for movie in sorted_Similar_Movies:\n",
    "  index=movie[0]\n",
    "  title_from_index=df[df.index==index]['Movie_Title'].values[0]\n",
    "  if(i<31):\n",
    "    print(i,'.',title_from_index)\n",
    "    i+=1"
   ]
  },
  {
   "attachments": {},
   "cell_type": "markdown",
   "id": "84c26ad3",
   "metadata": {},
   "source": [
    "Explaination :\n",
    "We take the given dataset from the github and use it in our project get the desired output"
   ]
  }
 ],
 "metadata": {
  "kernelspec": {
   "display_name": "Python 3 (ipykernel)",
   "language": "python",
   "name": "python3"
  },
  "language_info": {
   "codemirror_mode": {
    "name": "ipython",
    "version": 3
   },
   "file_extension": ".py",
   "mimetype": "text/x-python",
   "name": "python",
   "nbconvert_exporter": "python",
   "pygments_lexer": "ipython3",
   "version": "3.11.1"
  }
 },
 "nbformat": 4,
 "nbformat_minor": 5
}
