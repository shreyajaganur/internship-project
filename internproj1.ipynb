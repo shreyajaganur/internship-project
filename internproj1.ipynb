{
  "nbformat": 4,
  "nbformat_minor": 0,
  "metadata": {
    "colab": {
      "provenance": [],
      "authorship_tag": "ABX9TyML+gGdv9q9aUwz5nqchAr+",
      "include_colab_link": true
    },
    "kernelspec": {
      "name": "python3",
      "display_name": "Python 3"
    },
    "language_info": {
      "name": "python"
    }
  },
  "cells": [
    {
      "cell_type": "markdown",
      "metadata": {
        "id": "view-in-github",
        "colab_type": "text"
      },
      "source": [
        "<a href=\"https://colab.research.google.com/github/shreyajaganur/internship-project/blob/main/internproj1.ipynb\" target=\"_parent\"><img src=\"https://colab.research.google.com/assets/colab-badge.svg\" alt=\"Open In Colab\"/></a>"
      ]
    },
    {
      "cell_type": "markdown",
      "source": [
        "INTERNSHIP PROJECT"
      ],
      "metadata": {
        "id": "slkmCJ1YIVV-"
      }
    },
    {
      "cell_type": "markdown",
      "source": [
        "HAND WRITTEN DIGIT PREDICTION - Classification Analysis"
      ],
      "metadata": {
        "id": "wjhrzjsdF6Nd"
      }
    },
    {
      "cell_type": "markdown",
      "source": [
        "The digit dataset have 8*8 px images of digits.The images attributes dataset stores 8*8 array of grayscale value for each image. we will use these array to visualize the first 4 image. The target attribute of the dataset stores the digit each image represent"
      ],
      "metadata": {
        "id": "uw2mVvIXGM4e"
      }
    },
    {
      "cell_type": "code",
      "execution_count": 1,
      "metadata": {
        "id": "OI0c5fC8mS5X"
      },
      "outputs": [],
      "source": [
        "import pandas as pd"
      ]
    },
    {
      "cell_type": "code",
      "source": [
        "import numpy as np"
      ],
      "metadata": {
        "id": "8f32NbIUmb2M"
      },
      "execution_count": 2,
      "outputs": []
    },
    {
      "cell_type": "code",
      "source": [
        "import matplotlib.pyplot as plt"
      ],
      "metadata": {
        "id": "fNvcnQlGmcEB"
      },
      "execution_count": 3,
      "outputs": []
    },
    {
      "cell_type": "code",
      "source": [
        "from sklearn.datasets import load_digits"
      ],
      "metadata": {
        "id": "6GystfTQmpHn"
      },
      "execution_count": 6,
      "outputs": []
    },
    {
      "cell_type": "code",
      "source": [
        "df = load_digits()"
      ],
      "metadata": {
        "id": "w6c1HoXLmvx9"
      },
      "execution_count": 7,
      "outputs": []
    },
    {
      "cell_type": "code",
      "source": [
        "_,axes = plt.subplots(nrows=1,ncols=4,figsize=(10,3))\n",
        "for ax,image,label in zip(axes,df.images,df.target):\n",
        "    ax.set_axis_off()\n",
        "    ax.imshow(image,cmap=plt.cm.gray_r,interpolation=\"nearest\")\n",
        "    ax.set_title(\"Training: %i\" % label)"
      ],
      "metadata": {
        "colab": {
          "base_uri": "https://localhost:8080/",
          "height": 227
        },
        "id": "uKLwOEEBnds2",
        "outputId": "8e9f06be-e5f9-40bf-cbd5-88f1c58d6eed"
      },
      "execution_count": 11,
      "outputs": [
        {
          "output_type": "display_data",
          "data": {
            "text/plain": [
              "<Figure size 1000x300 with 4 Axes>"
            ],
            "image/png": "[encoded data removed]"
          },
          "metadata": {}
        }
      ]
    },
    {
      "cell_type": "code",
      "source": [
        "df.images.shape"
      ],
      "metadata": {
        "colab": {
          "base_uri": "https://localhost:8080/"
        },
        "id": "K4_ymYI-rjHX",
        "outputId": "8c1a232e-f7cc-4102-cd4b-d412439f00bd"
      },
      "execution_count": 14,
      "outputs": [
        {
          "output_type": "execute_result",
          "data": {
            "text/plain": [
              "(1797, 8, 8)"
            ]
          },
          "metadata": {},
          "execution_count": 14
        }
      ]
    },
    {
      "cell_type": "code",
      "source": [
        "df.images[0]"
      ],
      "metadata": {
        "colab": {
          "base_uri": "https://localhost:8080/"
        },
        "id": "LW_njS9lrnLp",
        "outputId": "f8bb8b45-9f5c-4347-b4ba-bcfdbca7d6f6"
      },
      "execution_count": 15,
      "outputs": [
        {
          "output_type": "execute_result",
          "data": {
            "text/plain": [
              "array([[ 0.,  0.,  5., 13.,  9.,  1.,  0.,  0.],\n",
              "       [ 0.,  0., 13., 15., 10., 15.,  5.,  0.],\n",
              "       [ 0.,  3., 15.,  2.,  0., 11.,  8.,  0.],\n",
              "       [ 0.,  4., 12.,  0.,  0.,  8.,  8.,  0.],\n",
              "       [ 0.,  5.,  8.,  0.,  0.,  9.,  8.,  0.],\n",
              "       [ 0.,  4., 11.,  0.,  1., 12.,  7.,  0.],\n",
              "       [ 0.,  2., 14.,  5., 10., 12.,  0.,  0.],\n",
              "       [ 0.,  0.,  6., 13., 10.,  0.,  0.,  0.]])"
            ]
          },
          "metadata": {},
          "execution_count": 15
        }
      ]
    },
    {
      "cell_type": "code",
      "source": [
        "df.images[0].shape"
      ],
      "metadata": {
        "colab": {
          "base_uri": "https://localhost:8080/"
        },
        "id": "r4F4X7KarrFw",
        "outputId": "b6e049c2-1493-4e5e-dd7e-0f4ed376bcb1"
      },
      "execution_count": 16,
      "outputs": [
        {
          "output_type": "execute_result",
          "data": {
            "text/plain": [
              "(8, 8)"
            ]
          },
          "metadata": {},
          "execution_count": 16
        }
      ]
    },
    {
      "cell_type": "code",
      "source": [
        "len(df.images)"
      ],
      "metadata": {
        "colab": {
          "base_uri": "https://localhost:8080/"
        },
        "id": "pW0pundCr01M",
        "outputId": "84526508-a8f7-48ea-dcae-a0d79b473abe"
      },
      "execution_count": 17,
      "outputs": [
        {
          "output_type": "execute_result",
          "data": {
            "text/plain": [
              "1797"
            ]
          },
          "metadata": {},
          "execution_count": 17
        }
      ]
    },
    {
      "cell_type": "code",
      "source": [
        "n_samples=len(df.images)\n",
        "data=df.images.reshape((n_samples,-1))"
      ],
      "metadata": {
        "id": "HZEmxOKvr0_Y"
      },
      "execution_count": 18,
      "outputs": []
    },
    {
      "cell_type": "code",
      "source": [
        "data[0]"
      ],
      "metadata": {
        "colab": {
          "base_uri": "https://localhost:8080/"
        },
        "id": "qYsDjAs8r1LJ",
        "outputId": "629b3c41-1e0c-4ed7-b4e9-f7c2713bbefe"
      },
      "execution_count": 19,
      "outputs": [
        {
          "output_type": "execute_result",
          "data": {
            "text/plain": [
              "array([ 0.,  0.,  5., 13.,  9.,  1.,  0.,  0.,  0.,  0., 13., 15., 10.,\n",
              "       15.,  5.,  0.,  0.,  3., 15.,  2.,  0., 11.,  8.,  0.,  0.,  4.,\n",
              "       12.,  0.,  0.,  8.,  8.,  0.,  0.,  5.,  8.,  0.,  0.,  9.,  8.,\n",
              "        0.,  0.,  4., 11.,  0.,  1., 12.,  7.,  0.,  0.,  2., 14.,  5.,\n",
              "       10., 12.,  0.,  0.,  0.,  0.,  6., 13., 10.,  0.,  0.,  0.])"
            ]
          },
          "metadata": {},
          "execution_count": 19
        }
      ]
    },
    {
      "cell_type": "code",
      "source": [
        "data[0].shape"
      ],
      "metadata": {
        "colab": {
          "base_uri": "https://localhost:8080/"
        },
        "id": "wfZ88zJ4sQFz",
        "outputId": "20b51c1f-a1ab-4f6f-d852-9fd07026cc8a"
      },
      "execution_count": 20,
      "outputs": [
        {
          "output_type": "execute_result",
          "data": {
            "text/plain": [
              "(64,)"
            ]
          },
          "metadata": {},
          "execution_count": 20
        }
      ]
    },
    {
      "cell_type": "markdown",
      "source": [
        "scaling image data"
      ],
      "metadata": {
        "id": "fTt9qSlysY-D"
      }
    },
    {
      "cell_type": "code",
      "source": [
        "data.min()"
      ],
      "metadata": {
        "colab": {
          "base_uri": "https://localhost:8080/"
        },
        "id": "9OG6VE6CsQM_",
        "outputId": "1b5b6949-107c-45cc-daac-79a56a3ca6f7"
      },
      "execution_count": 23,
      "outputs": [
        {
          "output_type": "execute_result",
          "data": {
            "text/plain": [
              "0.0"
            ]
          },
          "metadata": {},
          "execution_count": 23
        }
      ]
    },
    {
      "cell_type": "code",
      "source": [
        "data.max()"
      ],
      "metadata": {
        "colab": {
          "base_uri": "https://localhost:8080/"
        },
        "id": "aDnA_jlSshhm",
        "outputId": "eded4d47-6283-47a5-d956-51b9d9b22ddd"
      },
      "execution_count": 22,
      "outputs": [
        {
          "output_type": "execute_result",
          "data": {
            "text/plain": [
              "16.0"
            ]
          },
          "metadata": {},
          "execution_count": 22
        }
      ]
    },
    {
      "cell_type": "code",
      "source": [
        "data=data/16"
      ],
      "metadata": {
        "id": "9HzHnu2HskU_"
      },
      "execution_count": 24,
      "outputs": []
    },
    {
      "cell_type": "code",
      "source": [
        "data.max()"
      ],
      "metadata": {
        "colab": {
          "base_uri": "https://localhost:8080/"
        },
        "id": "ILycKSXftCuR",
        "outputId": "a936ad08-a102-43e6-db03-09538739d12a"
      },
      "execution_count": 25,
      "outputs": [
        {
          "output_type": "execute_result",
          "data": {
            "text/plain": [
              "1.0"
            ]
          },
          "metadata": {},
          "execution_count": 25
        }
      ]
    },
    {
      "cell_type": "code",
      "source": [
        "data.min()"
      ],
      "metadata": {
        "colab": {
          "base_uri": "https://localhost:8080/"
        },
        "id": "TjhF9PE_tC9_",
        "outputId": "3a8f5c9e-405f-43e4-8fa9-53589ae1eb55"
      },
      "execution_count": 26,
      "outputs": [
        {
          "output_type": "execute_result",
          "data": {
            "text/plain": [
              "0.0"
            ]
          },
          "metadata": {},
          "execution_count": 26
        }
      ]
    },
    {
      "cell_type": "code",
      "source": [
        "data[0]"
      ],
      "metadata": {
        "colab": {
          "base_uri": "https://localhost:8080/"
        },
        "id": "I5ABpb10tWWb",
        "outputId": "c763f51e-394e-4f89-dec2-033a63e6a056"
      },
      "execution_count": 27,
      "outputs": [
        {
          "output_type": "execute_result",
          "data": {
            "text/plain": [
              "array([0.    , 0.    , 0.3125, 0.8125, 0.5625, 0.0625, 0.    , 0.    ,\n",
              "       0.    , 0.    , 0.8125, 0.9375, 0.625 , 0.9375, 0.3125, 0.    ,\n",
              "       0.    , 0.1875, 0.9375, 0.125 , 0.    , 0.6875, 0.5   , 0.    ,\n",
              "       0.    , 0.25  , 0.75  , 0.    , 0.    , 0.5   , 0.5   , 0.    ,\n",
              "       0.    , 0.3125, 0.5   , 0.    , 0.    , 0.5625, 0.5   , 0.    ,\n",
              "       0.    , 0.25  , 0.6875, 0.    , 0.0625, 0.75  , 0.4375, 0.    ,\n",
              "       0.    , 0.125 , 0.875 , 0.3125, 0.625 , 0.75  , 0.    , 0.    ,\n",
              "       0.    , 0.    , 0.375 , 0.8125, 0.625 , 0.    , 0.    , 0.    ])"
            ]
          },
          "metadata": {},
          "execution_count": 27
        }
      ]
    },
    {
      "cell_type": "markdown",
      "source": [
        "train test split data"
      ],
      "metadata": {
        "id": "9r7Rwa45t5oO"
      }
    },
    {
      "cell_type": "code",
      "source": [
        "from sklearn.model_selection import train_test_split"
      ],
      "metadata": {
        "id": "8uC8tal7t02n"
      },
      "execution_count": 35,
      "outputs": []
    },
    {
      "cell_type": "code",
      "source": [
        "X_train, X_test, y_train, y_test = train_test_split (data,df.target,test_size =0.3)"
      ],
      "metadata": {
        "id": "B2bnzTB-t10h"
      },
      "execution_count": 36,
      "outputs": []
    },
    {
      "cell_type": "code",
      "source": [
        "X_train.shape, X_test.shape,y_train.shape,y_test.shape"
      ],
      "metadata": {
        "colab": {
          "base_uri": "https://localhost:8080/"
        },
        "id": "H1CLvn27yY4W",
        "outputId": "85f44d14-ba96-4833-a115-5bdb699641a4"
      },
      "execution_count": 37,
      "outputs": [
        {
          "output_type": "execute_result",
          "data": {
            "text/plain": [
              "((1257, 64), (540, 64), (1257,), (540,))"
            ]
          },
          "metadata": {},
          "execution_count": 37
        }
      ]
    },
    {
      "cell_type": "markdown",
      "source": [
        "Random Forest Model"
      ],
      "metadata": {
        "id": "IoqfOo0tDjfD"
      }
    },
    {
      "cell_type": "code",
      "source": [
        "from sklearn.ensemble import RandomForestClassifier"
      ],
      "metadata": {
        "id": "8NpShxjDy0KR"
      },
      "execution_count": 39,
      "outputs": []
    },
    {
      "cell_type": "code",
      "source": [
        "rf = RandomForestClassifier()"
      ],
      "metadata": {
        "id": "27rimAlXvJUK"
      },
      "execution_count": 40,
      "outputs": []
    },
    {
      "cell_type": "code",
      "source": [
        "rf.fit(X_train,y_train)\n",
        "RandomForestClassifier()\n"
      ],
      "metadata": {
        "id": "MVc_MqduEOzE"
      },
      "execution_count": null,
      "outputs": []
    },
    {
      "cell_type": "markdown",
      "source": [
        "Predict Test Data"
      ],
      "metadata": {
        "id": "Dyr0sm0tErxB"
      }
    },
    {
      "cell_type": "code",
      "source": [
        "y_pred = rf.predict(X_test)"
      ],
      "metadata": {
        "id": "A3JXInCDEO_h"
      },
      "execution_count": 42,
      "outputs": []
    },
    {
      "cell_type": "code",
      "source": [
        "y_pred"
      ],
      "metadata": {
        "colab": {
          "base_uri": "https://localhost:8080/"
        },
        "id": "FUkNZf_SFAgQ",
        "outputId": "8c8b0b13-1b03-4999-d14e-19e4c57a162e"
      },
      "execution_count": 43,
      "outputs": [
        {
          "output_type": "execute_result",
          "data": {
            "text/plain": [
              "array([5, 0, 9, 6, 3, 6, 0, 7, 5, 9, 8, 8, 0, 7, 7, 5, 5, 1, 7, 3, 4, 4,\n",
              "       1, 2, 6, 9, 6, 0, 0, 3, 1, 8, 3, 9, 3, 1, 8, 0, 1, 7, 4, 1, 3, 4,\n",
              "       1, 8, 2, 2, 8, 3, 7, 4, 0, 6, 5, 1, 6, 6, 8, 8, 1, 3, 4, 7, 4, 7,\n",
              "       2, 8, 2, 8, 0, 3, 0, 6, 3, 1, 3, 3, 2, 1, 1, 4, 6, 0, 8, 3, 3, 8,\n",
              "       2, 3, 5, 0, 0, 4, 3, 4, 8, 8, 5, 9, 0, 4, 4, 4, 0, 9, 4, 4, 3, 3,\n",
              "       3, 2, 4, 0, 2, 8, 4, 2, 1, 2, 5, 8, 6, 7, 5, 0, 7, 5, 8, 5, 9, 3,\n",
              "       1, 9, 6, 0, 3, 6, 0, 0, 1, 2, 7, 9, 3, 0, 6, 6, 2, 6, 9, 9, 4, 2,\n",
              "       9, 1, 1, 2, 9, 9, 3, 0, 6, 1, 8, 5, 3, 0, 7, 5, 7, 2, 1, 4, 4, 2,\n",
              "       2, 5, 7, 0, 9, 9, 2, 6, 1, 1, 6, 0, 1, 1, 9, 1, 7, 0, 8, 1, 4, 7,\n",
              "       5, 0, 6, 9, 7, 6, 2, 2, 0, 7, 5, 7, 4, 4, 7, 8, 2, 0, 5, 5, 1, 1,\n",
              "       0, 2, 7, 5, 5, 4, 7, 0, 2, 8, 2, 6, 8, 2, 7, 6, 0, 9, 6, 2, 8, 2,\n",
              "       7, 7, 5, 1, 8, 9, 6, 7, 5, 5, 8, 8, 6, 6, 6, 5, 2, 5, 4, 2, 1, 7,\n",
              "       9, 5, 8, 4, 4, 0, 7, 1, 0, 7, 4, 7, 9, 6, 0, 6, 1, 9, 9, 1, 9, 8,\n",
              "       0, 3, 3, 4, 7, 9, 3, 7, 8, 6, 7, 9, 6, 6, 8, 0, 3, 1, 8, 2, 2, 7,\n",
              "       0, 8, 1, 2, 9, 2, 2, 4, 5, 8, 5, 5, 7, 0, 5, 1, 3, 2, 9, 7, 3, 7,\n",
              "       3, 8, 9, 2, 6, 9, 3, 6, 0, 0, 7, 1, 9, 6, 4, 1, 1, 2, 5, 5, 7, 6,\n",
              "       5, 1, 2, 9, 2, 5, 0, 0, 2, 0, 5, 1, 0, 1, 7, 0, 4, 1, 9, 1, 7, 9,\n",
              "       0, 8, 1, 8, 0, 4, 1, 4, 2, 9, 5, 4, 3, 1, 8, 5, 7, 7, 5, 0, 3, 4,\n",
              "       4, 9, 0, 8, 9, 3, 5, 6, 9, 3, 3, 1, 4, 7, 2, 4, 7, 5, 5, 5, 7, 6,\n",
              "       9, 5, 1, 4, 6, 5, 6, 6, 1, 8, 1, 6, 1, 5, 4, 0, 0, 9, 1, 7, 1, 2,\n",
              "       2, 0, 7, 2, 4, 6, 3, 5, 1, 5, 5, 3, 6, 2, 1, 3, 4, 9, 6, 9, 7, 0,\n",
              "       8, 9, 0, 7, 3, 9, 7, 9, 4, 1, 6, 0, 6, 5, 6, 1, 2, 7, 2, 6, 6, 7,\n",
              "       3, 9, 5, 4, 3, 4, 0, 6, 4, 3, 4, 2, 3, 5, 3, 4, 9, 8, 2, 7, 2, 5,\n",
              "       0, 5, 4, 0, 1, 5, 5, 1, 1, 7, 6, 7, 2, 9, 8, 1, 0, 9, 7, 8, 7, 0,\n",
              "       0, 7, 9, 0, 4, 2, 1, 5, 3, 6, 9, 7])"
            ]
          },
          "metadata": {},
          "execution_count": 43
        }
      ]
    },
    {
      "cell_type": "code",
      "source": [
        "from sklearn.metrics import confusion_matrix,classification_report"
      ],
      "metadata": {
        "id": "7UdJPTmIFDl6"
      },
      "execution_count": 44,
      "outputs": []
    },
    {
      "cell_type": "code",
      "source": [
        "confusion_matrix(y_test,y_pred)"
      ],
      "metadata": {
        "colab": {
          "base_uri": "https://localhost:8080/"
        },
        "id": "riA4avL-FZhV",
        "outputId": "f9ac56a8-2224-4203-f59c-840296394b3f"
      },
      "execution_count": 45,
      "outputs": [
        {
          "output_type": "execute_result",
          "data": {
            "text/plain": [
              "array([[62,  0,  0,  0,  0,  0,  0,  0,  0,  0],\n",
              "       [ 0, 60,  0,  0,  0,  0,  0,  0,  0,  0],\n",
              "       [ 0,  0, 54,  0,  0,  0,  0,  0,  0,  0],\n",
              "       [ 0,  0,  0, 46,  0,  1,  0,  2,  2,  0],\n",
              "       [ 0,  0,  0,  0, 49,  0,  0,  0,  0,  1],\n",
              "       [ 0,  0,  0,  0,  0, 53,  1,  0,  0,  0],\n",
              "       [ 0,  0,  0,  0,  1,  0, 52,  0,  0,  0],\n",
              "       [ 0,  0,  0,  0,  0,  0,  0, 57,  0,  1],\n",
              "       [ 0,  2,  0,  1,  1,  1,  0,  1, 41,  0],\n",
              "       [ 0,  0,  0,  0,  0,  1,  0,  0,  0, 50]])"
            ]
          },
          "metadata": {},
          "execution_count": 45
        }
      ]
    },
    {
      "cell_type": "code",
      "source": [
        "print(classification_report(y_test,y_pred))"
      ],
      "metadata": {
        "colab": {
          "base_uri": "https://localhost:8080/"
        },
        "id": "wFbO4Y7NFmx2",
        "outputId": "07eb075e-a139-41de-ac45-9a5ebbd71313"
      },
      "execution_count": 46,
      "outputs": [
        {
          "output_type": "stream",
          "name": "stdout",
          "text": [
            "              precision    recall  f1-score   support\n",
            "\n",
            "           0       1.00      1.00      1.00        62\n",
            "           1       0.97      1.00      0.98        60\n",
            "           2       1.00      1.00      1.00        54\n",
            "           3       0.98      0.90      0.94        51\n",
            "           4       0.96      0.98      0.97        50\n",
            "           5       0.95      0.98      0.96        54\n",
            "           6       0.98      0.98      0.98        53\n",
            "           7       0.95      0.98      0.97        58\n",
            "           8       0.95      0.87      0.91        47\n",
            "           9       0.96      0.98      0.97        51\n",
            "\n",
            "    accuracy                           0.97       540\n",
            "   macro avg       0.97      0.97      0.97       540\n",
            "weighted avg       0.97      0.97      0.97       540\n",
            "\n"
          ]
        }
      ]
    }
  ]
}